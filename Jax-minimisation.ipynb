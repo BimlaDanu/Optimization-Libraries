{
 "cells": [
  {
   "cell_type": "code",
   "execution_count": null,
   "metadata": {},
   "outputs": [],
   "source": [
    "#pip install jax jaxlib"
   ]
  },
  {
   "cell_type": "markdown",
   "metadata": {},
   "source": [
    "### Jax library  for optimization of an objective function\n",
    "\n",
    "\n",
    "The `minimize` function in JAX, particularly when using optimization methods from the `scipy.optimize` module, typically employs deterministic optimization algorithms rather than stochastic reconstruction methods. These algorithms aim to find the minimum of a given objective function without relying on randomness.\n",
    "\n",
    "\n",
    "One popular deterministic optimization algorithm available in `scipy.optimize` and often used with JAX is the BFGS (Broyden-Fletcher-Goldfarb-Shanno) algorithm. BFGS is a quasi-Newton method that iteratively refines an approximation of the inverse Hessian matrix to find the minimum of a function.\n",
    "\n",
    "\n",
    "Here is a high-level overview of the BFGS algorithm and its mathematical formulation:\n",
    "\n",
    "**Initialization:**\n",
    "- Choose an initial guess for the parameters: $x_0$\n",
    "\n",
    "- Initialize the inverse Hessian approximation matrix:  $B_0$(usually set to the identity matrix).\n",
    "\n",
    "**For each iteration $k$:**\n",
    "- **Evaluate the Objective Function and Gradient:**\n",
    "    - Evaluate the objective function $f(x_k)$ and its gradient $\\Delta f(x_k)$ at the current parameter vector $x_k$.\n",
    "\n",
    "- **Update parameters:**\n",
    "    - Find the search direction $p_k$ by solving the equation $B_k p_k = -\\Delta f(x_k)$\n",
    "    - Update the parameter vector: $x_{k+1}=x_k+\\alpha_k p_k$, where $\\alpha_k$ is chosen via line search.\n",
    "\n",
    "- **Update Inverse Hessian Approximation:**\n",
    "   - Update the inverse Hessian approximation matrix $B_{k+1}$ using the BFGS update formula.\n",
    "\n",
    "The BFGS update formula for the inverse Hessian approximation is given by:\n",
    "\n",
    "$B_{k+1} = (I-\\rho_k y_k s^T_k)B_k (I-\\rho_k s_k y^T_k) +\\rho_k s_k s^T_k$\n",
    "\n",
    "where \n",
    "- $s_k = x_{k+1} -x_k$ is the step taken in parameter space.\n",
    "\n",
    "- $y_k = \\nabla f (x_{k+1})-\\nabla f (x_k)$ is the difference in gradients.\n",
    "\n",
    "- $\\rho_k = \\frac{1}{y^T_k s_k}$ is a scaling factor.\n",
    "\n",
    "- **Convergence Criteria:**\n",
    "    - Check for the convergence based on criteria such as the change in the parameter vector or the gradient.   \n",
    "\n",
    "- **Repeat:**\n",
    "    - If convergence criteria are not met, go back to step 2.\n",
    "\n",
    "The BFGS algorithm belongs to the class of quasi-Newton methods, and the update formula for the inverse Hessian is a key characteristic of these methods. The use of the inverse Hessian approximation allows BFGS to incorporate second-order information about the objective function, making it more efficient than first-order methods like gradient descent.   \n",
    "\n"
   ]
  },
  {
   "cell_type": "code",
   "execution_count": null,
   "metadata": {},
   "outputs": [],
   "source": []
  },
  {
   "cell_type": "markdown",
   "metadata": {},
   "source": [
    "### Optimization algorithms in JAX\n",
    "\n",
    "JAX provides a variety of optimization algorithms for minimization through the `jax.scipy.optimize` module, which is a subset of the SciPy optimization module adapted for JAX. Here are some of the available minimization algorithms:\n",
    "\n",
    "- **BFGS (minimize_bfgs):**\n",
    "    - Broyden-Fletcher-Goldfarb-Shanno (BFGS) algorithm.\n",
    "\n",
    "- **L-BFGS-B (minimize_l_bfgs_b):**\n",
    "    - Limited-memory Broyden-Fletcher-Goldfarb-Shanno (L-BFGS-B) algorithm with box constraints.\n",
    "    \n",
    "- **CG (minimize_cg):**\n",
    "    - Conjugate Gradient algorithm.\n",
    "\n",
    "- **Newton-CG (minimize_newton_cg):**\n",
    "    - Newton-Conjugate Gradient algorithm.\n",
    "\n",
    "- **Trust Region Newton-CG (minimize_trust_ncg):**\n",
    "    - Trust-Region Newton-CG algorithm.\n",
    "\n",
    "- **Trust Region Constrained (minimize_trust_constr):**\n",
    "    - Trust-Region Constrained Optimization by Linear Approximations (trust-constr) algorithm.\n",
    "\n",
    "- **Nelder-Mead (minimize_neldermead):**\n",
    "    - Nelder-Mead (or Downhill Simplex) algorithm.\n",
    "\n",
    "- **Powell (minimize_powell):**\n",
    "    - Powell's conjugate direction method.\n",
    "\n",
    "- **COBYLA (minimize_cobyla):**\n",
    "    - Constrained Optimization BY Linear Approximations (COBYLA) algorithm.\n",
    "\n",
    "- **SLSQP (minimize_slsqp):**\n",
    "    - Sequential Least SQuares Programming (SLSQP) algorithm.\n",
    "\n"
   ]
  },
  {
   "cell_type": "code",
   "execution_count": null,
   "metadata": {},
   "outputs": [],
   "source": []
  },
  {
   "cell_type": "markdown",
   "metadata": {},
   "source": [
    "### Pros and cons of various algorithms used in JAX library\n",
    "\n",
    "\n",
    "Here's a brief overview of the characteristics of the algorithms mentioned:\n",
    "\n",
    " - **Newton-CG (trust-ncg):**\n",
    "    - Pros: Suitable for large-scale problems. Converges quickly in many cases.\n",
    "    - Cons: Requires both gradient and Hessian information. May struggle with non-convex and poorly conditioned problems.\n",
    "\n",
    "- **Trust Region Newton-CG (trust-ncg):**\n",
    "    - Pros: Handles large-scale problems with efficient memory usage. Suitable for problems with noisy or inaccurate gradients.\n",
    "    - Cons: Requires both gradient and Hessian information.\n",
    "\n",
    "- **Trust Region Constrained (trust-constr):**\n",
    "    - Pros: Handles general constrained optimization problems. Well-suited for problems with nonlinear constraints.\n",
    "    - Cons: Requires both gradient and Hessian information. Can be computationally expensive.\n",
    "\n",
    "- **Nelder-Mead:**\n",
    "    - Pros: Does not require gradient information. Robust for optimizing non-smooth or noisy functions.\n",
    "    - Cons: May be slow to converge, especially for high-dimensional problems.\n",
    "\n",
    "- **Powell:**\n",
    "    - Pros: Does not require gradient information. Effective for optimizing functions with many parameters.\n",
    "    - Cons: May be slower than gradient-based methods for smooth problems.\n",
    "\n",
    "- **COBYLA:**\n",
    "    - Pros: Suitable for optimizing functions with noisy or inaccurate gradients. Handles bound constraints.\n",
    "    - Cons: Does not use gradient information. May be sensitive to the choice of parameters.\n",
    "\n",
    "- **SLSQP:**\n",
    "    - Pros: Handles general constrained optimization problems. Efficient for problems with both equality and inequality constraints.\n",
    "    - Cons: Requires gradient information.\n"
   ]
  },
  {
   "cell_type": "code",
   "execution_count": null,
   "metadata": {},
   "outputs": [],
   "source": []
  },
  {
   "cell_type": "markdown",
   "metadata": {},
   "source": [
    "## Difference between JAX and numpy minimization"
   ]
  },
  {
   "cell_type": "markdown",
   "metadata": {},
   "source": [
    "JAX (Just Another XLA) and NumPy are both libraries used for numerical computing in Python, but they have different strengths and use cases. Here are some advantages of using JAX over NumPy specifically in the context of minimization problems:\n",
    "\n",
    "**Automatic Differentiation (Autograd):**\n",
    "JAX provides a powerful automatic differentiation system (autograd), which allows you to compute gradients of functions automatically. This is crucial for optimization algorithms that rely on gradient information, such as gradient descent variants.\n",
    "While NumPy doesn't have built-in automatic differentiation, JAX's autograd makes it easier to perform gradient-based optimization without manually calculating derivatives.\n",
    "\n",
    "\n",
    "**Function Transformation and Compilation:**\n",
    "JAX allows you to transform Python functions into compiled functions that can be efficiently executed on accelerators like GPUs or TPUs. This can lead to significant speed-ups compared to NumPy for certain operations.\n",
    "NumPy relies on an interpreter, which might not take full advantage of hardware accelerators. JAX's ability to compile functions can lead to faster execution times in certain scenarios.\n",
    "\n",
    "\n",
    "**Functional Programming and Immutability:**\n",
    "JAX encourages functional programming and immutability. This can lead to more predictable behavior and better support for parallel and distributed computing.\n",
    "NumPy, being more mutable, might have challenges when it comes to parallelization and might require extra caution to avoid unintended side effects.\n",
    "\n",
    "\n",
    "**Parallel and Distributed Computing:**\n",
    "JAX is designed with parallel and distributed computing in mind. It allows for easy scaling of computations across multiple devices or even distributed systems.\n",
    "While NumPy has some support for parallelism, JAX provides more explicit and powerful mechanisms for parallel and distributed computing.\n",
    "\n",
    "\n",
    "**Support for Accelerators:**\n",
    "JAX is designed to work seamlessly with accelerators like GPUs and TPUs, providing better performance for large-scale numerical computations.\n",
    "NumPy can be used with these accelerators through libraries like CuPy, but JAX integrates more smoothly and efficiently with modern hardware.\n",
    "\n",
    "\n",
    "**Flexibility and Extensibility:**\n",
    "JAX is more modular and extensible than NumPy. It allows you to define custom transformations and optimizations, making it a suitable platform for research and experimentation.\n",
    "NumPy has a more monolithic design, which can be limiting for users who want to experiment with or extend the library.\n",
    "\n"
   ]
  },
  {
   "cell_type": "code",
   "execution_count": null,
   "metadata": {},
   "outputs": [],
   "source": []
  },
  {
   "cell_type": "code",
   "execution_count": 24,
   "metadata": {},
   "outputs": [],
   "source": [
    "import matplotlib.pyplot as plt\n",
    "import jax\n",
    "import jax.numpy as jnp\n",
    "from jax import grad\n",
    "from scipy.optimize import minimize\n"
   ]
  },
  {
   "cell_type": "code",
   "execution_count": 25,
   "metadata": {},
   "outputs": [
    {
     "name": "stdout",
     "output_type": "stream",
     "text": [
      "Newton-CG - Optimal solution: [ 2. -3.]\n",
      "Newton-CG - Optimal value: 0.0\n",
      "Trust Region Newton-CG - Optimal solution: [ 2. -3.]\n",
      "Trust Region Newton-CG - Optimal value: 0.0\n",
      "Trust Region Constrained - Optimal solution: [ 2.00000003 -2.9999999 ]\n",
      "Trust Region Constrained - Optimal value: 0.0\n",
      "Nelder-Mead - Optimal solution: [ 1.99997756 -2.99998938]\n",
      "Nelder-Mead - Optimal value: 6.173763722472358e-10\n",
      "Powell - Optimal solution: [ 2.         -3.00000009]\n",
      "Powell - Optimal value: 0.0\n",
      "COBYLA - Optimal solution: [ 1.99995245 -3.00006439]\n",
      "COBYLA - Optimal value: 6.4062675164677785e-09\n",
      "SLSQP - Optimal solution: [ 2. -3.]\n",
      "SLSQP - Optimal value: 0.0\n"
     ]
    }
   ],
   "source": [
    "def objective_function(x):\n",
    "    return (x[0] - 2)**2 + (x[1] + 3)**2\n",
    "\n",
    "# Jacobian (gradient) and Hessian of the objective function using JAX\n",
    "def gradient(x):\n",
    "    return jax.grad(objective_function)(x)\n",
    "\n",
    "def hessian(x):\n",
    "    return jax.hessian(objective_function)(x)\n",
    "\n",
    "# Convert the objective function to a NumPy function for use with scipy.optimize\n",
    "objective_function_np = lambda x: objective_function(np.array(x))\n",
    "\n",
    "# Define the initial guess\n",
    "initial_guess = np.array([1.0, 1.0])\n",
    "\n",
    "# Newton-CG\n",
    "result_newton_cg = minimize(objective_function_np, x0=initial_guess, method='Newton-CG', jac=gradient, hess=hessian)\n",
    "print(\"Newton-CG - Optimal solution:\", result_newton_cg.x)\n",
    "print(\"Newton-CG - Optimal value:\", result_newton_cg.fun)\n",
    "\n",
    "# Trust Region Newton-CG\n",
    "result_trust_ncg = minimize(objective_function_np, x0=initial_guess, method='trust-ncg', jac=gradient, hess=hessian)\n",
    "print(\"Trust Region Newton-CG - Optimal solution:\", result_trust_ncg.x)\n",
    "print(\"Trust Region Newton-CG - Optimal value:\", result_trust_ncg.fun)\n",
    "\n",
    "# Trust Region Constrained\n",
    "result_trust_constr = minimize(objective_function_np, x0=initial_guess, method='trust-constr', jac=gradient, hess=hessian)\n",
    "print(\"Trust Region Constrained - Optimal solution:\", result_trust_constr.x)\n",
    "print(\"Trust Region Constrained - Optimal value:\", result_trust_constr.fun)\n",
    "\n",
    "# Nelder-Mead\n",
    "result_neldermead = minimize(objective_function_np, x0=initial_guess, method='nelder-mead')\n",
    "print(\"Nelder-Mead - Optimal solution:\", result_neldermead.x)\n",
    "print(\"Nelder-Mead - Optimal value:\", result_neldermead.fun)\n",
    "\n",
    "# Powell\n",
    "result_powell = minimize(objective_function_np, x0=initial_guess, method='powell')\n",
    "print(\"Powell - Optimal solution:\", result_powell.x)\n",
    "print(\"Powell - Optimal value:\", result_powell.fun)\n",
    "\n",
    "# COBYLA\n",
    "result_cobyla = minimize(objective_function_np, x0=initial_guess, method='COBYLA')\n",
    "print(\"COBYLA - Optimal solution:\", result_cobyla.x)\n",
    "print(\"COBYLA - Optimal value:\", result_cobyla.fun)\n",
    "\n",
    "# SLSQP\n",
    "result_slsqp = minimize(objective_function_np, x0=initial_guess, method='SLSQP', jac=gradient)\n",
    "print(\"SLSQP - Optimal solution:\", result_slsqp.x)\n",
    "print(\"SLSQP - Optimal value:\", result_slsqp.fun)\n"
   ]
  },
  {
   "cell_type": "code",
   "execution_count": null,
   "metadata": {},
   "outputs": [],
   "source": []
  },
  {
   "cell_type": "code",
   "execution_count": 26,
   "metadata": {},
   "outputs": [
    {
     "data": {
      "image/png": "[encoded data removed]",
      "text/plain": [
       "<Figure size 640x480 with 1 Axes>"
      ]
     },
     "metadata": {},
     "output_type": "display_data"
    },
    {
     "name": "stdout",
     "output_type": "stream",
     "text": [
      "Optimal parameters: [ 1.9999998 -2.9999995]\n",
      "Optimal solution: 2.842171e-13\n"
     ]
    }
   ],
   "source": [
    "# Objective function\n",
    "def new_objective_function(x):\n",
    "    return (x[0] - 2)**2 + (x[1] + 3)**2\n",
    "\n",
    "#  Computing  gradient function  using Jax\n",
    "grad_new_objective = grad(new_objective_function)\n",
    "\n",
    "# Initial guess for the minimization\n",
    "initial_guess = np.array([1.0, 1.0])\n",
    "\n",
    "# Wrapper function for the new objective function \n",
    "def new_objective_with_gradient(x):\n",
    "    return new_objective_function(x)\n",
    "\n",
    "#Optimization history\n",
    "history_values = []\n",
    "history_epochs = []\n",
    "\n",
    "# parameters\n",
    "learning_rate = 0.1\n",
    "num_epochs = 100\n",
    "\n",
    "new_params = initial_guess\n",
    "for epoch in range(num_epochs):\n",
    "    gradient = grad_new_objective(new_params)\n",
    "    new_params -= learning_rate * gradient\n",
    "    \n",
    "    # History\n",
    "    history_values.append(new_objective_function(new_params))\n",
    "    history_epochs.append(epoch + 1)\n",
    "\n",
    "# Plot optimization history versus epoch\n",
    "plt.plot(history_epochs, history_values, marker='o')\n",
    "plt.xlabel('Epoch')\n",
    "plt.ylabel('Optimization loss  History')\n",
    "plt.title('Loss versus epoch')\n",
    "plt.show()\n",
    "print(\"Optimal parameters:\", new_params)\n",
    "print(\"Optimal solution:\", new_objective_function(new_params))\n"
   ]
  },
  {
   "cell_type": "code",
   "execution_count": 27,
   "metadata": {},
   "outputs": [
    {
     "data": {
      "image/png": "[encoded data removed]",
      "text/plain": [
       "<Figure size 640x480 with 1 Axes>"
      ]
     },
     "metadata": {},
     "output_type": "display_data"
    },
    {
     "name": "stdout",
     "output_type": "stream",
     "text": [
      "Optimal parameters: [ 6.3765976e-10 -1.5053105e-10]\n",
      "Optimal value: 4.0393535e-19\n"
     ]
    }
   ],
   "source": [
    "# Objective function\n",
    "def quadratic_objective(a, b, c, x):\n",
    "    return a * x[0]**2 + b * x[1]**2 + c * x[0] * x[1]\n",
    "\n",
    "# Gradient of the  objective function\n",
    "grad_quadratic_objective = jax.grad(quadratic_objective, argnums=(3,))\n",
    "\n",
    "# Initial guess for the optimization\n",
    "initial_guess = np.array([1.0, 1.0])\n",
    "\n",
    "# Initialize lists to store optimization history\n",
    "history_values = []\n",
    "history_epochs = []\n",
    "\n",
    "# Parameters\n",
    "learning_rate = 0.1\n",
    "num_epochs = 100\n",
    "\n",
    "a, b, c = 1.0, 2.0, 0.5  # \n",
    "\n",
    "new_params = initial_guess\n",
    "for epoch in range(num_epochs):\n",
    "    gradient_tuple = grad_quadratic_objective(a, b, c, new_params)\n",
    "    gradient = np.concatenate(gradient_tuple).reshape(-1)\n",
    "    new_params = new_params - learning_rate * gradient\n",
    "    \n",
    "    # Record history\n",
    "    history_values.append(quadratic_objective(a, b, c, new_params))\n",
    "    history_epochs.append(epoch + 1)\n",
    "\n",
    "# Plot loss  history versus epoch\n",
    "plt.plot(history_epochs, history_values, marker='o')\n",
    "plt.xlabel('Epoch')\n",
    "plt.ylabel('Loss history')\n",
    "plt.title('Optimization history versus epoch')\n",
    "plt.show()\n",
    "\n",
    "print(\"Optimal parameters:\", new_params)\n",
    "print(\"Optimal value:\", quadratic_objective(a, b, c, new_params))\n"
   ]
  },
  {
   "cell_type": "code",
   "execution_count": null,
   "metadata": {},
   "outputs": [],
   "source": []
  }
 ],
 "metadata": {
  "kernelspec": {
   "display_name": "Python 3",
   "language": "python",
   "name": "python3"
  },
  "language_info": {
   "codemirror_mode": {
    "name": "ipython",
    "version": 3
   },
   "file_extension": ".py",
   "mimetype": "text/x-python",
   "name": "python",
   "nbconvert_exporter": "python",
   "pygments_lexer": "ipython3",
   "version": "3.11.3"
  }
 },
 "nbformat": 4,
 "nbformat_minor": 2
}
